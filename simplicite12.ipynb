{
 "cells": [
  {
   "cell_type": "code",
   "execution_count": 1,
   "metadata": {},
   "outputs": [],
   "source": [
    "def erase (chaine) :\n",
    "    liste = list(chaine)\n",
    "    res = \"\"\n",
    "    if len(liste)<1:\n",
    "        return \"\"\n",
    "    elif len(liste)==1:\n",
    "        if liste[0]==\" \":\n",
    "            return \"\"\n",
    "        else :\n",
    "            res += tab[0]\n",
    "            return res\n",
    "    if ((liste[0]==\" \") and (liste[1]==\" \")):\n",
    "        res+=\" \"\n",
    "    elif (liste[0]!= \" \"):\n",
    "        res+=liste[0]\n",
    "    else :\n",
    "        res+=\"\"\n",
    "    i=0\n",
    "    for i in range (1, len(liste)-1):\n",
    "        if ((liste[i]==\" \") and ((liste[i+1]==\" \")or(liste[i-1])==\" \")):\n",
    "            res+=\" \"\n",
    "        elif (liste[i]!= \" \"):\n",
    "            res+=liste[i]\n",
    "        else :\n",
    "            res+=\"\"\n",
    "    i+=1\n",
    "    if ((liste[i]==\" \") and (liste[i-1]==\" \")):\n",
    "        res+=\" \"\n",
    "    elif (liste[i]!= \" \"):\n",
    "        res+=liste[i]\n",
    "    else :\n",
    "        res+=\"\"\n",
    "    return res"
   ]
  },
  {
   "cell_type": "code",
   "execution_count": 6,
   "metadata": {},
   "outputs": [
    {
     "name": "stdout",
     "output_type": "stream",
     "text": [
      "Bonjou  r\n",
      "test ok\n",
      "test ok\n",
      "test ok\n"
     ]
    }
   ],
   "source": [
    "\n",
    "print (erase (\"Bon j ou  r \"))\n",
    "msg=(erase(\"  Salut Ca  Va   Bien    ou     bien      ?       \"))\n",
    "if(msg==  \"  SalutCa  Va   Bien    ou     bien      ?       \"):\n",
    "    print(\"test ok\")\n",
    "else :\n",
    "    print(\"test pas ok\")\n",
    "    print(msg)\n",
    "\n",
    "msg=(erase(\"       \"))\n",
    "if(msg==  \"       \"):\n",
    "    print(\"test ok\")\n",
    "else :\n",
    "    print(\"test pas ok\")\n",
    "    print(msg)\n",
    "\n",
    "msg=(erase(\" \"))\n",
    "if(msg==  \"\"):\n",
    "    print(\"test ok\")\n",
    "else :\n",
    "    print(\"test pas ok\")\n",
    "    print(msg)"
   ]
  }
 ],
 "metadata": {
  "kernelspec": {
   "display_name": "Python 3.9.0 64-bit",
   "language": "python",
   "name": "python3"
  },
  "language_info": {
   "codemirror_mode": {
    "name": "ipython",
    "version": 3
   },
   "file_extension": ".py",
   "mimetype": "text/x-python",
   "name": "python",
   "nbconvert_exporter": "python",
   "pygments_lexer": "ipython3",
   "version": "3.9.0"
  },
  "vscode": {
   "interpreter": {
    "hash": "2469a70536e4d2335a2ea8907942d0699c37342a371ac185bdb5b0aa6f073890"
   }
  }
 },
 "nbformat": 4,
 "nbformat_minor": 4
}
